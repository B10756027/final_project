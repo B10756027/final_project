{
 "cells": [
  {
   "cell_type": "code",
   "execution_count": 1,
   "metadata": {
    "_cell_guid": "b1076dfc-b9ad-4769-8c92-a6c4dae69d19",
    "_uuid": "8f2839f25d086af736a60e9eeb907d3b93b6e0e5",
    "execution": {
     "iopub.execute_input": "2021-01-09T20:51:44.957342Z",
     "iopub.status.busy": "2021-01-09T20:51:44.956615Z",
     "iopub.status.idle": "2021-01-09T20:51:50.251121Z",
     "shell.execute_reply": "2021-01-09T20:51:50.251928Z"
    },
    "papermill": {
     "duration": 5.320804,
     "end_time": "2021-01-09T20:51:50.252125",
     "exception": false,
     "start_time": "2021-01-09T20:51:44.931321",
     "status": "completed"
    },
    "tags": []
   },
   "outputs": [
    {
     "name": "stdout",
     "output_type": "stream",
     "text": [
      "/kaggle/input/jane-street-market-prediction/example_sample_submission.csv\n",
      "/kaggle/input/jane-street-market-prediction/features.csv\n",
      "/kaggle/input/jane-street-market-prediction/example_test.csv\n",
      "/kaggle/input/jane-street-market-prediction/train.csv\n",
      "/kaggle/input/jane-street-market-prediction/janestreet/competition.cpython-37m-x86_64-linux-gnu.so\n",
      "/kaggle/input/jane-street-market-prediction/janestreet/__init__.py\n"
     ]
    }
   ],
   "source": [
    "import numpy as np # linear algebra\n",
    "import pandas as pd # data processing, CSV file I/O (e.g. pd.read_csv)\n",
    "import matplotlib.pyplot as plt\n",
    "import seaborn as sns\n",
    "import sklearn\n",
    "from sklearn.model_selection import train_test_split\n",
    "from sklearn.preprocessing import StandardScaler\n",
    "from sklearn.decomposition import PCA\n",
    "import xgboost as xgb\n",
    "import optuna\n",
    "\n",
    "import os\n",
    "for dirname, _, filenames in os.walk('/kaggle/input'):\n",
    "    for filename in filenames:\n",
    "        print(os.path.join(dirname, filename))"
   ]
  },
  {
   "cell_type": "code",
   "execution_count": 2,
   "metadata": {
    "_cell_guid": "79c7e3d0-c299-4dcb-8224-4455121ee9b0",
    "_uuid": "d629ff2d2480ee46fbb7e2d37f6b5fab8052498a",
    "execution": {
     "iopub.execute_input": "2021-01-09T20:51:50.311387Z",
     "iopub.status.busy": "2021-01-09T20:51:50.310309Z",
     "iopub.status.idle": "2021-01-09T20:53:55.832306Z",
     "shell.execute_reply": "2021-01-09T20:53:55.833252Z"
    },
    "papermill": {
     "duration": 125.553855,
     "end_time": "2021-01-09T20:53:55.833466",
     "exception": false,
     "start_time": "2021-01-09T20:51:50.279611",
     "status": "completed"
    },
    "tags": []
   },
   "outputs": [
    {
     "name": "stdout",
     "output_type": "stream",
     "text": [
      "<class 'pandas.core.frame.DataFrame'>\n",
      "RangeIndex: 2000000 entries, 0 to 1999999\n",
      "Columns: 138 entries, date to ts_id\n",
      "dtypes: float64(135), int64(3)\n",
      "memory usage: 2.1 GB\n"
     ]
    }
   ],
   "source": [
    "#把數據庫放進train裡面\n",
    "train = pd.read_csv('/kaggle/input/jane-street-market-prediction/train.csv', nrows=2000000)\n",
    "train.info()"
   ]
  },
  {
   "cell_type": "code",
   "execution_count": 3,
   "metadata": {
    "execution": {
     "iopub.execute_input": "2021-01-09T20:53:55.875606Z",
     "iopub.status.busy": "2021-01-09T20:53:55.874712Z",
     "iopub.status.idle": "2021-01-09T20:53:57.272706Z",
     "shell.execute_reply": "2021-01-09T20:53:57.271127Z"
    },
    "papermill": {
     "duration": 1.420304,
     "end_time": "2021-01-09T20:53:57.272823",
     "exception": false,
     "start_time": "2021-01-09T20:53:55.852519",
     "status": "completed"
    },
    "tags": []
   },
   "outputs": [],
   "source": [
    "#把weight=0的部分刪掉\n",
    "train = train[train['weight']!=0]\n",
    "\n",
    "# 創建action\n",
    "# 因為resp是用來當分類器所以把resp定義成action\n",
    "# 為了把resp的效用最大化所以要最大化pi，pi=∑j(weightij∗respij∗actionij)\n",
    "# resp會增加pi\n",
    "train['action'] = train['resp'].apply(lambda x:x>0).astype(int)"
   ]
  },
  {
   "cell_type": "code",
   "execution_count": 4,
   "metadata": {
    "execution": {
     "iopub.execute_input": "2021-01-09T20:53:57.313283Z",
     "iopub.status.busy": "2021-01-09T20:53:57.311516Z",
     "iopub.status.idle": "2021-01-09T20:53:57.313937Z",
     "shell.execute_reply": "2021-01-09T20:53:57.314418Z"
    },
    "papermill": {
     "duration": 0.024576,
     "end_time": "2021-01-09T20:53:57.314532",
     "exception": false,
     "start_time": "2021-01-09T20:53:57.289956",
     "status": "completed"
    },
    "tags": []
   },
   "outputs": [],
   "source": [
    "features = [col for col in list(train.columns) if 'feature' in col]"
   ]
  },
  {
   "cell_type": "code",
   "execution_count": 5,
   "metadata": {
    "execution": {
     "iopub.execute_input": "2021-01-09T20:53:57.355076Z",
     "iopub.status.busy": "2021-01-09T20:53:57.353737Z",
     "iopub.status.idle": "2021-01-09T20:54:00.723936Z",
     "shell.execute_reply": "2021-01-09T20:54:00.723409Z"
    },
    "papermill": {
     "duration": 3.392712,
     "end_time": "2021-01-09T20:54:00.724072",
     "exception": false,
     "start_time": "2021-01-09T20:53:57.331360",
     "status": "completed"
    },
    "tags": []
   },
   "outputs": [],
   "source": [
    "X = train[features]\n",
    "y = train['action']\n",
    "\n",
    "# 保留部分train的數據當作保留驗證集\n",
    "train_x, valid_x, train_y, valid_y = train_test_split(X, y, test_size=0.2)"
   ]
  },
  {
   "cell_type": "code",
   "execution_count": 6,
   "metadata": {
    "execution": {
     "iopub.execute_input": "2021-01-09T20:54:00.776970Z",
     "iopub.status.busy": "2021-01-09T20:54:00.776128Z",
     "iopub.status.idle": "2021-01-09T20:54:00.994310Z",
     "shell.execute_reply": "2021-01-09T20:54:00.993177Z"
    },
    "papermill": {
     "duration": 0.250492,
     "end_time": "2021-01-09T20:54:00.994444",
     "exception": false,
     "start_time": "2021-01-09T20:54:00.743952",
     "status": "completed"
    },
    "tags": []
   },
   "outputs": [
    {
     "data": {
      "image/png": "[encoded data removed]",
      "text/plain": [
       "<Figure size 432x288 with 1 Axes>"
      ]
     },
     "metadata": {
      "needs_background": "light"
     },
     "output_type": "display_data"
    }
   ],
   "source": [
    "# 先檢查目標數據在訓練數據內有沒有平衡\n",
    "sns.set_palette(\"colorblind\")\n",
    "ax = sns.barplot(train_y.value_counts().index, train_y.value_counts()/len(train_y))\n",
    "ax.set_title(\"Proportion of trades with action=0 and action=1\")\n",
    "ax.set_ylabel(\"Percentage\")\n",
    "ax.set_xlabel(\"Action\")\n",
    "sns.despine();\n",
    "# 目標數據相當均衡，幾乎每個action的對應交易都占50％"
   ]
  },
  {
   "cell_type": "code",
   "execution_count": 7,
   "metadata": {
    "execution": {
     "iopub.execute_input": "2021-01-09T20:54:01.045679Z",
     "iopub.status.busy": "2021-01-09T20:54:01.044237Z",
     "iopub.status.idle": "2021-01-09T20:54:53.979937Z",
     "shell.execute_reply": "2021-01-09T20:54:53.980431Z"
    },
    "papermill": {
     "duration": 52.966627,
     "end_time": "2021-01-09T20:54:53.980573",
     "exception": false,
     "start_time": "2021-01-09T20:54:01.013946",
     "status": "completed"
    },
    "tags": []
   },
   "outputs": [
    {
     "data": {
      "text/plain": [
       "<matplotlib.axes._subplots.AxesSubplot at 0x7fe14681ebd0>"
      ]
     },
     "execution_count": 7,
     "metadata": {},
     "output_type": "execute_result"
    },
    {
     "data": {
      "image/png": "[encoded data removed]",
      "text/plain": [
       "<Figure size 864x720 with 2 Axes>"
      ]
     },
     "metadata": {
      "needs_background": "light"
     },
     "output_type": "display_data"
    }
   ],
   "source": [
    "# 繪製對角線相關圖，用來查看各個特徵的關聯性\n",
    "corr = train_x.corr()\n",
    "\n",
    "\n",
    "mask = np.triu(np.ones_like(corr, dtype=bool))\n",
    "\n",
    "\n",
    "f, ax = plt.subplots(figsize=(12, 10))\n",
    "\n",
    "\n",
    "cmap = sns.diverging_palette(20, 230, as_cmap=True)\n",
    "\n",
    "\n",
    "sns.heatmap(corr, mask=mask, cmap=cmap, vmin=-1, vmax=1, center=0,\n",
    "            square=True, linewidths=.5, cbar_kws={\"shrink\": .5})\n",
    "# 有幾個feature有強烈的關聯性"
   ]
  },
  {
   "cell_type": "code",
   "execution_count": 8,
   "metadata": {
    "execution": {
     "iopub.execute_input": "2021-01-09T20:54:54.035495Z",
     "iopub.status.busy": "2021-01-09T20:54:54.034578Z",
     "iopub.status.idle": "2021-01-09T20:54:54.388068Z",
     "shell.execute_reply": "2021-01-09T20:54:54.388545Z"
    },
    "papermill": {
     "duration": 0.382517,
     "end_time": "2021-01-09T20:54:54.388673",
     "exception": false,
     "start_time": "2021-01-09T20:54:54.006156",
     "status": "completed"
    },
    "tags": []
   },
   "outputs": [
    {
     "data": {
      "text/html": [
       "<div>\n",
       "<style scoped>\n",
       "    .dataframe tbody tr th:only-of-type {\n",
       "        vertical-align: middle;\n",
       "    }\n",
       "\n",
       "    .dataframe tbody tr th {\n",
       "        vertical-align: top;\n",
       "    }\n",
       "\n",
       "    .dataframe thead th {\n",
       "        text-align: right;\n",
       "    }\n",
       "</style>\n",
       "<table border=\"1\" class=\"dataframe\">\n",
       "  <thead>\n",
       "    <tr style=\"text-align: right;\">\n",
       "      <th></th>\n",
       "      <th>0</th>\n",
       "      <th>1</th>\n",
       "      <th>2</th>\n",
       "      <th>3</th>\n",
       "      <th>4</th>\n",
       "      <th>5</th>\n",
       "      <th>6</th>\n",
       "      <th>7</th>\n",
       "      <th>8</th>\n",
       "      <th>9</th>\n",
       "      <th>...</th>\n",
       "      <th>120</th>\n",
       "      <th>121</th>\n",
       "      <th>122</th>\n",
       "      <th>123</th>\n",
       "      <th>124</th>\n",
       "      <th>125</th>\n",
       "      <th>126</th>\n",
       "      <th>127</th>\n",
       "      <th>128</th>\n",
       "      <th>129</th>\n",
       "    </tr>\n",
       "  </thead>\n",
       "  <tbody>\n",
       "    <tr>\n",
       "      <th>feature</th>\n",
       "      <td>feature_0</td>\n",
       "      <td>feature_1</td>\n",
       "      <td>feature_2</td>\n",
       "      <td>feature_3</td>\n",
       "      <td>feature_4</td>\n",
       "      <td>feature_5</td>\n",
       "      <td>feature_6</td>\n",
       "      <td>feature_7</td>\n",
       "      <td>feature_8</td>\n",
       "      <td>feature_9</td>\n",
       "      <td>...</td>\n",
       "      <td>feature_120</td>\n",
       "      <td>feature_121</td>\n",
       "      <td>feature_122</td>\n",
       "      <td>feature_123</td>\n",
       "      <td>feature_124</td>\n",
       "      <td>feature_125</td>\n",
       "      <td>feature_126</td>\n",
       "      <td>feature_127</td>\n",
       "      <td>feature_128</td>\n",
       "      <td>feature_129</td>\n",
       "    </tr>\n",
       "    <tr>\n",
       "      <th>num_missing</th>\n",
       "      <td>0</td>\n",
       "      <td>0</td>\n",
       "      <td>0</td>\n",
       "      <td>327</td>\n",
       "      <td>327</td>\n",
       "      <td>0</td>\n",
       "      <td>0</td>\n",
       "      <td>210401</td>\n",
       "      <td>210401</td>\n",
       "      <td>409</td>\n",
       "      <td>...</td>\n",
       "      <td>36444</td>\n",
       "      <td>36444</td>\n",
       "      <td>116</td>\n",
       "      <td>116</td>\n",
       "      <td>8217</td>\n",
       "      <td>8217</td>\n",
       "      <td>4553</td>\n",
       "      <td>4553</td>\n",
       "      <td>989</td>\n",
       "      <td>989</td>\n",
       "    </tr>\n",
       "  </tbody>\n",
       "</table>\n",
       "<p>2 rows × 130 columns</p>\n",
       "</div>"
      ],
      "text/plain": [
       "                   0          1          2          3          4          5    \\\n",
       "feature      feature_0  feature_1  feature_2  feature_3  feature_4  feature_5   \n",
       "num_missing          0          0          0        327        327          0   \n",
       "\n",
       "                   6          7          8          9    ...          120  \\\n",
       "feature      feature_6  feature_7  feature_8  feature_9  ...  feature_120   \n",
       "num_missing          0     210401     210401        409  ...        36444   \n",
       "\n",
       "                     121          122          123          124          125  \\\n",
       "feature      feature_121  feature_122  feature_123  feature_124  feature_125   \n",
       "num_missing        36444          116          116         8217         8217   \n",
       "\n",
       "                     126          127          128          129  \n",
       "feature      feature_126  feature_127  feature_128  feature_129  \n",
       "num_missing         4553         4553          989          989  \n",
       "\n",
       "[2 rows x 130 columns]"
      ]
     },
     "execution_count": 8,
     "metadata": {},
     "output_type": "execute_result"
    }
   ],
   "source": [
    "# 調查feature的缺失值且進行估算\n",
    "missing_values = pd.DataFrame()\n",
    "missing_values['feature'] = features\n",
    "missing_values['num_missing'] = [train_x[i].isna().sum() for i in features]\n",
    "missing_values.T"
   ]
  },
  {
   "cell_type": "code",
   "execution_count": 9,
   "metadata": {
    "execution": {
     "iopub.execute_input": "2021-01-09T20:54:54.436657Z",
     "iopub.status.busy": "2021-01-09T20:54:54.435898Z",
     "iopub.status.idle": "2021-01-09T20:54:58.246543Z",
     "shell.execute_reply": "2021-01-09T20:54:58.245400Z"
    },
    "papermill": {
     "duration": 3.836574,
     "end_time": "2021-01-09T20:54:58.246663",
     "exception": false,
     "start_time": "2021-01-09T20:54:54.410089",
     "status": "completed"
    },
    "tags": []
   },
   "outputs": [],
   "source": [
    "train_median = train_x.median()\n",
    "# 在訓練集和保留驗證集中估算中位數\n",
    "train_x = train_x.fillna(train_median)\n",
    "valid_x = valid_x.fillna(train_median)"
   ]
  },
  {
   "cell_type": "code",
   "execution_count": 10,
   "metadata": {
    "execution": {
     "iopub.execute_input": "2021-01-09T20:54:58.309161Z",
     "iopub.status.busy": "2021-01-09T20:54:58.308500Z",
     "iopub.status.idle": "2021-01-09T20:55:24.307979Z",
     "shell.execute_reply": "2021-01-09T20:55:24.308740Z"
    },
    "papermill": {
     "duration": 26.039847,
     "end_time": "2021-01-09T20:55:24.308893",
     "exception": false,
     "start_time": "2021-01-09T20:54:58.269046",
     "status": "completed"
    },
    "tags": []
   },
   "outputs": [
    {
     "data": {
      "image/png": "[encoded data removed]",
      "text/plain": [
       "<Figure size 432x288 with 1 Axes>"
      ]
     },
     "metadata": {
      "needs_background": "light"
     },
     "output_type": "display_data"
    }
   ],
   "source": [
    "# 要進行PCA前要先把所有feature內的資料標準化\n",
    "scaler = StandardScaler()\n",
    "scaler.fit(train_x)\n",
    "train_x_norm = scaler.transform(train_x)\n",
    "\n",
    "pca = PCA()\n",
    "comp = pca.fit(train_x_norm)\n",
    "\n",
    "# 繪製圖表顯示129個feature的變化如何隨feature的數量而變化\n",
    "# 前15個feature包括了大約80％的變化\n",
    "# 前40個feature包括大約95％的變化\n",
    "\n",
    "\n",
    "plt.plot(np.cumsum(comp.explained_variance_ratio_))\n",
    "plt.grid()\n",
    "plt.xlabel('Number of Principal Components')\n",
    "plt.ylabel('Explained Variance')\n",
    "sns.despine();"
   ]
  },
  {
   "cell_type": "code",
   "execution_count": 11,
   "metadata": {
    "execution": {
     "iopub.execute_input": "2021-01-09T20:55:24.362413Z",
     "iopub.status.busy": "2021-01-09T20:55:24.361475Z",
     "iopub.status.idle": "2021-01-09T20:55:54.096551Z",
     "shell.execute_reply": "2021-01-09T20:55:54.095508Z"
    },
    "papermill": {
     "duration": 29.763045,
     "end_time": "2021-01-09T20:55:54.096735",
     "exception": false,
     "start_time": "2021-01-09T20:55:24.333690",
     "status": "completed"
    },
    "tags": []
   },
   "outputs": [],
   "source": [
    "# 只使用前50個feature來使用PCA而不使用所有feature來提高速度\n",
    "pca = PCA(n_components=50).fit(train_x_norm)\n",
    "train_x_transform = pca.transform(train_x_norm)"
   ]
  },
  {
   "cell_type": "code",
   "execution_count": 12,
   "metadata": {
    "execution": {
     "iopub.execute_input": "2021-01-09T20:55:54.193189Z",
     "iopub.status.busy": "2021-01-09T20:55:54.192058Z",
     "iopub.status.idle": "2021-01-09T20:55:54.921708Z",
     "shell.execute_reply": "2021-01-09T20:55:54.921137Z"
    },
    "papermill": {
     "duration": 0.798098,
     "end_time": "2021-01-09T20:55:54.921819",
     "exception": false,
     "start_time": "2021-01-09T20:55:54.123721",
     "status": "completed"
    },
    "tags": []
   },
   "outputs": [],
   "source": [
    "#轉換驗證集\n",
    "valid_x_transform = pca.transform(scaler.transform(valid_x))"
   ]
  },
  {
   "cell_type": "code",
   "execution_count": 13,
   "metadata": {
    "execution": {
     "iopub.execute_input": "2021-01-09T20:55:54.972000Z",
     "iopub.status.busy": "2021-01-09T20:55:54.971435Z",
     "iopub.status.idle": "2021-01-09T20:55:57.961090Z",
     "shell.execute_reply": "2021-01-09T20:55:57.960522Z"
    },
    "papermill": {
     "duration": 3.01654,
     "end_time": "2021-01-09T20:55:57.961211",
     "exception": false,
     "start_time": "2021-01-09T20:55:54.944671",
     "status": "completed"
    },
    "tags": []
   },
   "outputs": [],
   "source": [
    "dtrain = xgb.DMatrix(train_x_transform, label=train_y)\n",
    "dvalid = xgb.DMatrix(valid_x_transform, label=valid_y)"
   ]
  },
  {
   "cell_type": "code",
   "execution_count": 14,
   "metadata": {
    "execution": {
     "iopub.execute_input": "2021-01-09T20:55:58.016500Z",
     "iopub.status.busy": "2021-01-09T20:55:58.015741Z",
     "iopub.status.idle": "2021-01-09T20:55:58.019636Z",
     "shell.execute_reply": "2021-01-09T20:55:58.019176Z"
    },
    "papermill": {
     "duration": 0.035302,
     "end_time": "2021-01-09T20:55:58.019732",
     "exception": false,
     "start_time": "2021-01-09T20:55:57.984430",
     "status": "completed"
    },
    "tags": []
   },
   "outputs": [],
   "source": [
    "def objective(trial):\n",
    "    \n",
    "# 設定xgboost的參數\n",
    "# params設定xgboost要調整的參數範圍\n",
    "    params = {\n",
    "        'n_estimators': trial.suggest_int('n_estimators', 200, 600),\n",
    "        'max_depth': trial.suggest_int('max_depth', 10, 25),\n",
    "        'learning_rate': trial.suggest_uniform('learning_rate', 0.01, 0.1),\n",
    "        'subsample': trial.suggest_uniform('subsample', 0.50, 1),\n",
    "        'colsample_bytree': trial.suggest_uniform('colsample_bytree', 0.50, 1),\n",
    "        'gamma': trial.suggest_int('gamma', 0, 10),\n",
    "        'tree_method': 'gpu_hist',  \n",
    "        'objective': 'binary:logistic'\n",
    "    }\n",
    "    \n",
    "    bst = xgb.train(params, dtrain)\n",
    "    preds = bst.predict(dvalid)\n",
    "    pred_labels = np.rint(preds)\n",
    "# 根據測試集的準確性評估並測試\n",
    "    accuracy = sklearn.metrics.accuracy_score(valid_y, pred_labels)\n",
    "    return accuracy"
   ]
  },
  {
   "cell_type": "code",
   "execution_count": 15,
   "metadata": {
    "execution": {
     "iopub.execute_input": "2021-01-09T20:55:58.072957Z",
     "iopub.status.busy": "2021-01-09T20:55:58.072338Z",
     "iopub.status.idle": "2021-01-09T21:02:05.361157Z",
     "shell.execute_reply": "2021-01-09T21:02:05.360215Z"
    },
    "papermill": {
     "duration": 367.318629,
     "end_time": "2021-01-09T21:02:05.361325",
     "exception": false,
     "start_time": "2021-01-09T20:55:58.042696",
     "status": "completed"
    },
    "tags": []
   },
   "outputs": [
    {
     "name": "stderr",
     "output_type": "stream",
     "text": [
      "\u001b[32m[I 2021-01-09 20:55:58,071]\u001b[0m A new study created in memory with name: no-name-4227df9b-eee5-437e-8949-11eb85bba853\u001b[0m\n"
     ]
    },
    {
     "name": "stdout",
     "output_type": "stream",
     "text": [
      "[20:55:58] WARNING: ../src/learner.cc:516: \n",
      "Parameters: { n_estimators } might not be used.\n",
      "\n",
      "  This may not be accurate due to some parameters are only used in language bindings but\n",
      "  passed down to XGBoost core.  Or some parameters are not used but slip through this\n",
      "  verification. Please open an issue if you find above cases.\n",
      "\n",
      "\n"
     ]
    },
    {
     "name": "stderr",
     "output_type": "stream",
     "text": [
      "\u001b[32m[I 2021-01-09 20:56:52,438]\u001b[0m Trial 0 finished with value: 0.5231281339242947 and parameters: {'n_estimators': 333, 'max_depth': 23, 'learning_rate': 0.0855625012946475, 'subsample': 0.6535460302765139, 'colsample_bytree': 0.7962467862825195, 'gamma': 0}. Best is trial 0 with value: 0.5231281339242947.\u001b[0m\n"
     ]
    },
    {
     "name": "stdout",
     "output_type": "stream",
     "text": [
      "[20:56:52] WARNING: ../src/learner.cc:516: \n",
      "Parameters: { n_estimators } might not be used.\n",
      "\n",
      "  This may not be accurate due to some parameters are only used in language bindings but\n",
      "  passed down to XGBoost core.  Or some parameters are not used but slip through this\n",
      "  verification. Please open an issue if you find above cases.\n",
      "\n",
      "\n"
     ]
    },
    {
     "name": "stderr",
     "output_type": "stream",
     "text": [
      "\u001b[32m[I 2021-01-09 20:56:54,551]\u001b[0m Trial 1 finished with value: 0.5290337054126321 and parameters: {'n_estimators': 386, 'max_depth': 12, 'learning_rate': 0.028257377346312437, 'subsample': 0.9883168815113867, 'colsample_bytree': 0.9307568802462851, 'gamma': 6}. Best is trial 1 with value: 0.5290337054126321.\u001b[0m\n"
     ]
    },
    {
     "name": "stdout",
     "output_type": "stream",
     "text": [
      "[20:56:54] WARNING: ../src/learner.cc:516: \n",
      "Parameters: { n_estimators } might not be used.\n",
      "\n",
      "  This may not be accurate due to some parameters are only used in language bindings but\n",
      "  passed down to XGBoost core.  Or some parameters are not used but slip through this\n",
      "  verification. Please open an issue if you find above cases.\n",
      "\n",
      "\n"
     ]
    },
    {
     "name": "stderr",
     "output_type": "stream",
     "text": [
      "\u001b[32m[I 2021-01-09 20:57:13,137]\u001b[0m Trial 2 finished with value: 0.5295066361889055 and parameters: {'n_estimators': 248, 'max_depth': 17, 'learning_rate': 0.0732195050254153, 'subsample': 0.9909274450431939, 'colsample_bytree': 0.8712407063085166, 'gamma': 0}. Best is trial 2 with value: 0.5295066361889055.\u001b[0m\n"
     ]
    },
    {
     "name": "stdout",
     "output_type": "stream",
     "text": [
      "[20:57:13] WARNING: ../src/learner.cc:516: \n",
      "Parameters: { n_estimators } might not be used.\n",
      "\n",
      "  This may not be accurate due to some parameters are only used in language bindings but\n",
      "  passed down to XGBoost core.  Or some parameters are not used but slip through this\n",
      "  verification. Please open an issue if you find above cases.\n",
      "\n",
      "\n"
     ]
    },
    {
     "name": "stderr",
     "output_type": "stream",
     "text": [
      "\u001b[32m[I 2021-01-09 20:58:02,609]\u001b[0m Trial 3 finished with value: 0.5278240940040866 and parameters: {'n_estimators': 510, 'max_depth': 22, 'learning_rate': 0.020838761176615796, 'subsample': 0.7763870013677094, 'colsample_bytree': 0.9708643533339509, 'gamma': 1}. Best is trial 2 with value: 0.5295066361889055.\u001b[0m\n"
     ]
    },
    {
     "name": "stdout",
     "output_type": "stream",
     "text": [
      "[20:58:02] WARNING: ../src/learner.cc:516: \n",
      "Parameters: { n_estimators } might not be used.\n",
      "\n",
      "  This may not be accurate due to some parameters are only used in language bindings but\n",
      "  passed down to XGBoost core.  Or some parameters are not used but slip through this\n",
      "  verification. Please open an issue if you find above cases.\n",
      "\n",
      "\n"
     ]
    },
    {
     "name": "stderr",
     "output_type": "stream",
     "text": [
      "\u001b[32m[I 2021-01-09 20:58:05,131]\u001b[0m Trial 4 finished with value: 0.5269297697797234 and parameters: {'n_estimators': 239, 'max_depth': 12, 'learning_rate': 0.06337105170699513, 'subsample': 0.6486068348904444, 'colsample_bytree': 0.7425363946756668, 'gamma': 2}. Best is trial 2 with value: 0.5295066361889055.\u001b[0m\n"
     ]
    },
    {
     "name": "stdout",
     "output_type": "stream",
     "text": [
      "[20:58:05] WARNING: ../src/learner.cc:516: \n",
      "Parameters: { n_estimators } might not be used.\n",
      "\n",
      "  This may not be accurate due to some parameters are only used in language bindings but\n",
      "  passed down to XGBoost core.  Or some parameters are not used but slip through this\n",
      "  verification. Please open an issue if you find above cases.\n",
      "\n",
      "\n"
     ]
    },
    {
     "name": "stderr",
     "output_type": "stream",
     "text": [
      "\u001b[32m[I 2021-01-09 20:58:12,196]\u001b[0m Trial 5 finished with value: 0.5293611190269752 and parameters: {'n_estimators': 564, 'max_depth': 15, 'learning_rate': 0.039663568624825035, 'subsample': 0.8363679183273007, 'colsample_bytree': 0.7314521656684974, 'gamma': 3}. Best is trial 2 with value: 0.5295066361889055.\u001b[0m\n"
     ]
    },
    {
     "name": "stdout",
     "output_type": "stream",
     "text": [
      "[20:58:12] WARNING: ../src/learner.cc:516: \n",
      "Parameters: { n_estimators } might not be used.\n",
      "\n",
      "  This may not be accurate due to some parameters are only used in language bindings but\n",
      "  passed down to XGBoost core.  Or some parameters are not used but slip through this\n",
      "  verification. Please open an issue if you find above cases.\n",
      "\n",
      "\n"
     ]
    },
    {
     "name": "stderr",
     "output_type": "stream",
     "text": [
      "\u001b[32m[I 2021-01-09 20:59:17,371]\u001b[0m Trial 6 finished with value: 0.5246772853773441 and parameters: {'n_estimators': 228, 'max_depth': 24, 'learning_rate': 0.03161849044157907, 'subsample': 0.7404402109467793, 'colsample_bytree': 0.7564561163786698, 'gamma': 0}. Best is trial 2 with value: 0.5295066361889055.\u001b[0m\n"
     ]
    },
    {
     "name": "stdout",
     "output_type": "stream",
     "text": [
      "[20:59:17] WARNING: ../src/learner.cc:516: \n",
      "Parameters: { n_estimators } might not be used.\n",
      "\n",
      "  This may not be accurate due to some parameters are only used in language bindings but\n",
      "  passed down to XGBoost core.  Or some parameters are not used but slip through this\n",
      "  verification. Please open an issue if you find above cases.\n",
      "\n",
      "\n"
     ]
    },
    {
     "name": "stderr",
     "output_type": "stream",
     "text": [
      "\u001b[32m[I 2021-01-09 20:59:18,403]\u001b[0m Trial 7 finished with value: 0.5251077736480546 and parameters: {'n_estimators': 313, 'max_depth': 12, 'learning_rate': 0.02619368113441485, 'subsample': 0.5112407257234411, 'colsample_bytree': 0.5639833569796711, 'gamma': 9}. Best is trial 2 with value: 0.5295066361889055.\u001b[0m\n"
     ]
    },
    {
     "name": "stdout",
     "output_type": "stream",
     "text": [
      "[20:59:18] WARNING: ../src/learner.cc:516: \n",
      "Parameters: { n_estimators } might not be used.\n",
      "\n",
      "  This may not be accurate due to some parameters are only used in language bindings but\n",
      "  passed down to XGBoost core.  Or some parameters are not used but slip through this\n",
      "  verification. Please open an issue if you find above cases.\n",
      "\n",
      "\n"
     ]
    },
    {
     "name": "stderr",
     "output_type": "stream",
     "text": [
      "\u001b[32m[I 2021-01-09 20:59:19,482]\u001b[0m Trial 8 finished with value: 0.5277149561326389 and parameters: {'n_estimators': 265, 'max_depth': 12, 'learning_rate': 0.0630975250584577, 'subsample': 0.6474191001195302, 'colsample_bytree': 0.6797969004614448, 'gamma': 10}. Best is trial 2 with value: 0.5295066361889055.\u001b[0m\n"
     ]
    },
    {
     "name": "stdout",
     "output_type": "stream",
     "text": [
      "[20:59:19] WARNING: ../src/learner.cc:516: \n",
      "Parameters: { n_estimators } might not be used.\n",
      "\n",
      "  This may not be accurate due to some parameters are only used in language bindings but\n",
      "  passed down to XGBoost core.  Or some parameters are not used but slip through this\n",
      "  verification. Please open an issue if you find above cases.\n",
      "\n",
      "\n"
     ]
    },
    {
     "name": "stderr",
     "output_type": "stream",
     "text": [
      "\u001b[32m[I 2021-01-09 20:59:27,053]\u001b[0m Trial 9 finished with value: 0.5263628591697034 and parameters: {'n_estimators': 563, 'max_depth': 15, 'learning_rate': 0.09469605268509117, 'subsample': 0.9722352954636508, 'colsample_bytree': 0.5613121477787144, 'gamma': 2}. Best is trial 2 with value: 0.5295066361889055.\u001b[0m\n"
     ]
    },
    {
     "name": "stdout",
     "output_type": "stream",
     "text": [
      "[20:59:27] WARNING: ../src/learner.cc:516: \n",
      "Parameters: { n_estimators } might not be used.\n",
      "\n",
      "  This may not be accurate due to some parameters are only used in language bindings but\n",
      "  passed down to XGBoost core.  Or some parameters are not used but slip through this\n",
      "  verification. Please open an issue if you find above cases.\n",
      "\n",
      "\n"
     ]
    },
    {
     "name": "stderr",
     "output_type": "stream",
     "text": [
      "\u001b[32m[I 2021-01-09 20:59:39,380]\u001b[0m Trial 10 finished with value: 0.5295763631623305 and parameters: {'n_estimators': 442, 'max_depth': 19, 'learning_rate': 0.07920891660065883, 'subsample': 0.9297032194272563, 'colsample_bytree': 0.8510210581386872, 'gamma': 6}. Best is trial 10 with value: 0.5295763631623305.\u001b[0m\n"
     ]
    },
    {
     "name": "stdout",
     "output_type": "stream",
     "text": [
      "[20:59:39] WARNING: ../src/learner.cc:516: \n",
      "Parameters: { n_estimators } might not be used.\n",
      "\n",
      "  This may not be accurate due to some parameters are only used in language bindings but\n",
      "  passed down to XGBoost core.  Or some parameters are not used but slip through this\n",
      "  verification. Please open an issue if you find above cases.\n",
      "\n",
      "\n"
     ]
    },
    {
     "name": "stderr",
     "output_type": "stream",
     "text": [
      "\u001b[32m[I 2021-01-09 20:59:52,018]\u001b[0m Trial 11 finished with value: 0.5290397686277125 and parameters: {'n_estimators': 467, 'max_depth': 19, 'learning_rate': 0.07876742364093942, 'subsample': 0.9024091389915405, 'colsample_bytree': 0.8819323492235118, 'gamma': 6}. Best is trial 10 with value: 0.5295763631623305.\u001b[0m\n"
     ]
    },
    {
     "name": "stdout",
     "output_type": "stream",
     "text": [
      "[20:59:52] WARNING: ../src/learner.cc:516: \n",
      "Parameters: { n_estimators } might not be used.\n",
      "\n",
      "  This may not be accurate due to some parameters are only used in language bindings but\n",
      "  passed down to XGBoost core.  Or some parameters are not used but slip through this\n",
      "  verification. Please open an issue if you find above cases.\n",
      "\n",
      "\n"
     ]
    },
    {
     "name": "stderr",
     "output_type": "stream",
     "text": [
      "\u001b[32m[I 2021-01-09 20:59:58,401]\u001b[0m Trial 12 finished with value: 0.530334265047384 and parameters: {'n_estimators': 417, 'max_depth': 19, 'learning_rate': 0.07548109694225323, 'subsample': 0.9133979660769852, 'colsample_bytree': 0.8610109819044378, 'gamma': 8}. Best is trial 12 with value: 0.530334265047384.\u001b[0m\n"
     ]
    },
    {
     "name": "stdout",
     "output_type": "stream",
     "text": [
      "[20:59:58] WARNING: ../src/learner.cc:516: \n",
      "Parameters: { n_estimators } might not be used.\n",
      "\n",
      "  This may not be accurate due to some parameters are only used in language bindings but\n",
      "  passed down to XGBoost core.  Or some parameters are not used but slip through this\n",
      "  verification. Please open an issue if you find above cases.\n",
      "\n",
      "\n"
     ]
    },
    {
     "name": "stderr",
     "output_type": "stream",
     "text": [
      "\u001b[32m[I 2021-01-09 21:00:03,756]\u001b[0m Trial 13 finished with value: 0.5286426280399444 and parameters: {'n_estimators': 436, 'max_depth': 19, 'learning_rate': 0.09988758895984057, 'subsample': 0.9191754279499637, 'colsample_bytree': 0.8316240917868782, 'gamma': 8}. Best is trial 12 with value: 0.530334265047384.\u001b[0m\n"
     ]
    },
    {
     "name": "stdout",
     "output_type": "stream",
     "text": [
      "[21:00:03] WARNING: ../src/learner.cc:516: \n",
      "Parameters: { n_estimators } might not be used.\n",
      "\n",
      "  This may not be accurate due to some parameters are only used in language bindings but\n",
      "  passed down to XGBoost core.  Or some parameters are not used but slip through this\n",
      "  verification. Please open an issue if you find above cases.\n",
      "\n",
      "\n"
     ]
    },
    {
     "name": "stderr",
     "output_type": "stream",
     "text": [
      "\u001b[32m[I 2021-01-09 21:00:17,004]\u001b[0m Trial 14 finished with value: 0.530361549515246 and parameters: {'n_estimators': 409, 'max_depth': 21, 'learning_rate': 0.047198205107631924, 'subsample': 0.8857312640594103, 'colsample_bytree': 0.995148307730573, 'gamma': 7}. Best is trial 14 with value: 0.530361549515246.\u001b[0m\n"
     ]
    },
    {
     "name": "stdout",
     "output_type": "stream",
     "text": [
      "[21:00:17] WARNING: ../src/learner.cc:516: \n",
      "Parameters: { n_estimators } might not be used.\n",
      "\n",
      "  This may not be accurate due to some parameters are only used in language bindings but\n",
      "  passed down to XGBoost core.  Or some parameters are not used but slip through this\n",
      "  verification. Please open an issue if you find above cases.\n",
      "\n",
      "\n"
     ]
    },
    {
     "name": "stderr",
     "output_type": "stream",
     "text": [
      "\u001b[32m[I 2021-01-09 21:00:25,254]\u001b[0m Trial 15 finished with value: 0.5323684737068678 and parameters: {'n_estimators': 379, 'max_depth': 21, 'learning_rate': 0.04341322541952352, 'subsample': 0.8483332857142152, 'colsample_bytree': 0.9913645888857532, 'gamma': 8}. Best is trial 15 with value: 0.5323684737068678.\u001b[0m\n"
     ]
    },
    {
     "name": "stdout",
     "output_type": "stream",
     "text": [
      "[21:00:25] WARNING: ../src/learner.cc:516: \n",
      "Parameters: { n_estimators } might not be used.\n",
      "\n",
      "  This may not be accurate due to some parameters are only used in language bindings but\n",
      "  passed down to XGBoost core.  Or some parameters are not used but slip through this\n",
      "  verification. Please open an issue if you find above cases.\n",
      "\n",
      "\n"
     ]
    },
    {
     "name": "stderr",
     "output_type": "stream",
     "text": [
      "\u001b[32m[I 2021-01-09 21:00:55,219]\u001b[0m Trial 16 finished with value: 0.5280302433168211 and parameters: {'n_estimators': 369, 'max_depth': 21, 'learning_rate': 0.04563553254603109, 'subsample': 0.8333023430868409, 'colsample_bytree': 0.9680797073150702, 'gamma': 4}. Best is trial 15 with value: 0.5323684737068678.\u001b[0m\n"
     ]
    },
    {
     "name": "stdout",
     "output_type": "stream",
     "text": [
      "[21:00:55] WARNING: ../src/learner.cc:516: \n",
      "Parameters: { n_estimators } might not be used.\n",
      "\n",
      "  This may not be accurate due to some parameters are only used in language bindings but\n",
      "  passed down to XGBoost core.  Or some parameters are not used but slip through this\n",
      "  verification. Please open an issue if you find above cases.\n",
      "\n",
      "\n"
     ]
    },
    {
     "name": "stderr",
     "output_type": "stream",
     "text": [
      "\u001b[32m[I 2021-01-09 21:01:07,133]\u001b[0m Trial 17 finished with value: 0.5295399838718479 and parameters: {'n_estimators': 487, 'max_depth': 25, 'learning_rate': 0.04918229092085469, 'subsample': 0.8438022810775183, 'colsample_bytree': 0.9837241793528659, 'gamma': 8}. Best is trial 15 with value: 0.5323684737068678.\u001b[0m\n"
     ]
    },
    {
     "name": "stdout",
     "output_type": "stream",
     "text": [
      "[21:01:07] WARNING: ../src/learner.cc:516: \n",
      "Parameters: { n_estimators } might not be used.\n",
      "\n",
      "  This may not be accurate due to some parameters are only used in language bindings but\n",
      "  passed down to XGBoost core.  Or some parameters are not used but slip through this\n",
      "  verification. Please open an issue if you find above cases.\n",
      "\n",
      "\n"
     ]
    },
    {
     "name": "stderr",
     "output_type": "stream",
     "text": [
      "\u001b[32m[I 2021-01-09 21:01:10,012]\u001b[0m Trial 18 finished with value: 0.5301735898477526 and parameters: {'n_estimators': 319, 'max_depth': 21, 'learning_rate': 0.011946555917952892, 'subsample': 0.7464279529323838, 'colsample_bytree': 0.922542666479916, 'gamma': 10}. Best is trial 15 with value: 0.5323684737068678.\u001b[0m\n"
     ]
    },
    {
     "name": "stdout",
     "output_type": "stream",
     "text": [
      "[21:01:10] WARNING: ../src/learner.cc:516: \n",
      "Parameters: { n_estimators } might not be used.\n",
      "\n",
      "  This may not be accurate due to some parameters are only used in language bindings but\n",
      "  passed down to XGBoost core.  Or some parameters are not used but slip through this\n",
      "  verification. Please open an issue if you find above cases.\n",
      "\n",
      "\n"
     ]
    },
    {
     "name": "stderr",
     "output_type": "stream",
     "text": [
      "\u001b[32m[I 2021-01-09 21:01:21,825]\u001b[0m Trial 19 finished with value: 0.526584166520139 and parameters: {'n_estimators': 350, 'max_depth': 25, 'learning_rate': 0.05594749066396301, 'subsample': 0.7958763456030176, 'colsample_bytree': 0.6295248283785825, 'gamma': 7}. Best is trial 15 with value: 0.5323684737068678.\u001b[0m\n"
     ]
    },
    {
     "name": "stdout",
     "output_type": "stream",
     "text": [
      "[21:01:21] WARNING: ../src/learner.cc:516: \n",
      "Parameters: { n_estimators } might not be used.\n",
      "\n",
      "  This may not be accurate due to some parameters are only used in language bindings but\n",
      "  passed down to XGBoost core.  Or some parameters are not used but slip through this\n",
      "  verification. Please open an issue if you find above cases.\n",
      "\n",
      "\n"
     ]
    },
    {
     "name": "stderr",
     "output_type": "stream",
     "text": [
      "\u001b[32m[I 2021-01-09 21:01:32,584]\u001b[0m Trial 20 finished with value: 0.5287153866209096 and parameters: {'n_estimators': 288, 'max_depth': 17, 'learning_rate': 0.037131831226636144, 'subsample': 0.7029907591722976, 'colsample_bytree': 0.9998500997768364, 'gamma': 5}. Best is trial 15 with value: 0.5323684737068678.\u001b[0m\n"
     ]
    },
    {
     "name": "stdout",
     "output_type": "stream",
     "text": [
      "[21:01:32] WARNING: ../src/learner.cc:516: \n",
      "Parameters: { n_estimators } might not be used.\n",
      "\n",
      "  This may not be accurate due to some parameters are only used in language bindings but\n",
      "  passed down to XGBoost core.  Or some parameters are not used but slip through this\n",
      "  verification. Please open an issue if you find above cases.\n",
      "\n",
      "\n"
     ]
    },
    {
     "name": "stderr",
     "output_type": "stream",
     "text": [
      "\u001b[32m[I 2021-01-09 21:01:40,253]\u001b[0m Trial 21 finished with value: 0.5308496383292205 and parameters: {'n_estimators': 410, 'max_depth': 21, 'learning_rate': 0.0558680720905644, 'subsample': 0.8802951047325736, 'colsample_bytree': 0.9245767860488678, 'gamma': 8}. Best is trial 15 with value: 0.5323684737068678.\u001b[0m\n"
     ]
    },
    {
     "name": "stdout",
     "output_type": "stream",
     "text": [
      "[21:01:40] WARNING: ../src/learner.cc:516: \n",
      "Parameters: { n_estimators } might not be used.\n",
      "\n",
      "  This may not be accurate due to some parameters are only used in language bindings but\n",
      "  passed down to XGBoost core.  Or some parameters are not used but slip through this\n",
      "  verification. Please open an issue if you find above cases.\n",
      "\n",
      "\n"
     ]
    },
    {
     "name": "stderr",
     "output_type": "stream",
     "text": [
      "\u001b[32m[I 2021-01-09 21:01:45,054]\u001b[0m Trial 22 finished with value: 0.5298825555238921 and parameters: {'n_estimators': 396, 'max_depth': 21, 'learning_rate': 0.05891842558614334, 'subsample': 0.8637812089538061, 'colsample_bytree': 0.9256417343754555, 'gamma': 9}. Best is trial 15 with value: 0.5323684737068678.\u001b[0m\n"
     ]
    },
    {
     "name": "stdout",
     "output_type": "stream",
     "text": [
      "[21:01:45] WARNING: ../src/learner.cc:516: \n",
      "Parameters: { n_estimators } might not be used.\n",
      "\n",
      "  This may not be accurate due to some parameters are only used in language bindings but\n",
      "  passed down to XGBoost core.  Or some parameters are not used but slip through this\n",
      "  verification. Please open an issue if you find above cases.\n",
      "\n",
      "\n"
     ]
    },
    {
     "name": "stderr",
     "output_type": "stream",
     "text": [
      "\u001b[32m[I 2021-01-09 21:01:59,819]\u001b[0m Trial 23 finished with value: 0.5290549266654136 and parameters: {'n_estimators': 523, 'max_depth': 23, 'learning_rate': 0.04785786200606688, 'subsample': 0.8690340929658904, 'colsample_bytree': 0.9444960268510317, 'gamma': 7}. Best is trial 15 with value: 0.5323684737068678.\u001b[0m\n"
     ]
    },
    {
     "name": "stdout",
     "output_type": "stream",
     "text": [
      "[21:01:59] WARNING: ../src/learner.cc:516: \n",
      "Parameters: { n_estimators } might not be used.\n",
      "\n",
      "  This may not be accurate due to some parameters are only used in language bindings but\n",
      "  passed down to XGBoost core.  Or some parameters are not used but slip through this\n",
      "  verification. Please open an issue if you find above cases.\n",
      "\n",
      "\n"
     ]
    },
    {
     "name": "stderr",
     "output_type": "stream",
     "text": [
      "\u001b[32m[I 2021-01-09 21:02:05,294]\u001b[0m Trial 24 finished with value: 0.5330809014788181 and parameters: {'n_estimators': 404, 'max_depth': 20, 'learning_rate': 0.0391466039569055, 'subsample': 0.9434261297057731, 'colsample_bytree': 0.9984752728881512, 'gamma': 9}. Best is trial 24 with value: 0.5330809014788181.\u001b[0m\n"
     ]
    },
    {
     "name": "stdout",
     "output_type": "stream",
     "text": [
      "Number of finished trials:  25\n",
      "Best trial:\n",
      "  Value: 0.5330809014788181\n",
      "  Params: \n",
      "    n_estimators: 404\n",
      "    max_depth: 20\n",
      "    learning_rate: 0.0391466039569055\n",
      "    subsample: 0.9434261297057731\n",
      "    colsample_bytree: 0.9984752728881512\n",
      "    gamma: 9\n"
     ]
    }
   ],
   "source": [
    "if __name__ == \"__main__\":\n",
    "    study = optuna.create_study(direction=\"maximize\")\n",
    "    study.optimize(objective, n_trials=25, timeout=600)\n",
    "\n",
    "    print(\"Number of finished trials: \", len(study.trials))\n",
    "    print(\"Best trial:\")\n",
    "    trial = study.best_trial\n",
    "\n",
    "    print(\"  Value: {}\".format(trial.value))\n",
    "    print(\"  Params: \")\n",
    "    for key, value in trial.params.items():\n",
    "        print(\"    {}: {}\".format(key, value))"
   ]
  },
  {
   "cell_type": "code",
   "execution_count": 16,
   "metadata": {
    "execution": {
     "iopub.execute_input": "2021-01-09T21:02:05.461439Z",
     "iopub.status.busy": "2021-01-09T21:02:05.460195Z",
     "iopub.status.idle": "2021-01-09T21:02:05.462818Z",
     "shell.execute_reply": "2021-01-09T21:02:05.463327Z"
    },
    "papermill": {
     "duration": 0.050928,
     "end_time": "2021-01-09T21:02:05.463455",
     "exception": false,
     "start_time": "2021-01-09T21:02:05.412527",
     "status": "completed"
    },
    "tags": []
   },
   "outputs": [],
   "source": [
    "# 讓xgboost的分類器使用最佳的參數\n",
    "best_params = trial.params\n",
    "best_params['tree_method'] = 'gpu_hist' \n",
    "best_params['objective'] = 'binary:logistic'\n"
   ]
  },
  {
   "cell_type": "code",
   "execution_count": 17,
   "metadata": {
    "execution": {
     "iopub.execute_input": "2021-01-09T21:02:05.553783Z",
     "iopub.status.busy": "2021-01-09T21:02:05.553198Z",
     "iopub.status.idle": "2021-01-09T21:02:05.557430Z",
     "shell.execute_reply": "2021-01-09T21:02:05.556559Z"
    },
    "papermill": {
     "duration": 0.050551,
     "end_time": "2021-01-09T21:02:05.557537",
     "exception": false,
     "start_time": "2021-01-09T21:02:05.506986",
     "status": "completed"
    },
    "tags": []
   },
   "outputs": [],
   "source": [
    "optimal_clf = xgb.XGBClassifier(**best_params)"
   ]
  },
  {
   "cell_type": "code",
   "execution_count": 18,
   "metadata": {
    "execution": {
     "iopub.execute_input": "2021-01-09T21:02:05.649788Z",
     "iopub.status.busy": "2021-01-09T21:02:05.648557Z",
     "iopub.status.idle": "2021-01-09T21:02:29.559695Z",
     "shell.execute_reply": "2021-01-09T21:02:29.559073Z"
    },
    "papermill": {
     "duration": 23.959294,
     "end_time": "2021-01-09T21:02:29.559823",
     "exception": false,
     "start_time": "2021-01-09T21:02:05.600529",
     "status": "completed"
    },
    "tags": []
   },
   "outputs": [
    {
     "data": {
      "text/plain": [
       "XGBClassifier(base_score=0.5, booster='gbtree', colsample_bylevel=1,\n",
       "              colsample_bynode=1, colsample_bytree=0.9984752728881512, gamma=9,\n",
       "              gpu_id=0, importance_type='gain', interaction_constraints='',\n",
       "              learning_rate=0.0391466039569055, max_delta_step=0, max_depth=20,\n",
       "              min_child_weight=1, missing=nan,\n",
       "              monotone_constraints='(0,0,0,0,0,0,0,0,0,0,0,0,0,0,0,0,0,0,0,0,0,0,0,0,0,0,0,0,0,0,0,0,0,0,0,0,0,0,0,0,0,0,0,0,0,0,0,0,0,0)',\n",
       "              n_estimators=404, n_jobs=0, num_parallel_tree=1, random_state=0,\n",
       "              reg_alpha=0, reg_lambda=1, scale_pos_weight=1,\n",
       "              subsample=0.9434261297057731, tree_method='gpu_hist',\n",
       "              validate_parameters=1, verbosity=None)"
      ]
     },
     "execution_count": 18,
     "metadata": {},
     "output_type": "execute_result"
    }
   ],
   "source": [
    "optimal_clf.fit(train_x_transform, train_y)"
   ]
  },
  {
   "cell_type": "code",
   "execution_count": 19,
   "metadata": {
    "execution": {
     "iopub.execute_input": "2021-01-09T21:02:29.667734Z",
     "iopub.status.busy": "2021-01-09T21:02:29.667099Z",
     "iopub.status.idle": "2021-01-09T21:02:29.938104Z",
     "shell.execute_reply": "2021-01-09T21:02:29.938589Z"
    },
    "papermill": {
     "duration": 0.318803,
     "end_time": "2021-01-09T21:02:29.938739",
     "exception": false,
     "start_time": "2021-01-09T21:02:29.619936",
     "status": "completed"
    },
    "tags": []
   },
   "outputs": [
    {
     "data": {
      "text/html": [
       "        <script type=\"text/javascript\">\n",
       "        window.PlotlyConfig = {MathJaxConfig: 'local'};\n",
       "        if (window.MathJax) {MathJax.Hub.Config({SVG: {font: \"STIX-Web\"}});}\n",
       "        if (typeof require !== 'undefined') {\n",
       "        require.undef(\"plotly\");\n",
       "        requirejs.config({\n",
       "            paths: {\n",
       "                'plotly': ['https://cdn.plot.ly/plotly-latest.min']\n",
       "            }\n",
       "        });\n",
       "        require(['plotly'], function(Plotly) {\n",
       "            window._Plotly = Plotly;\n",
       "        });\n",
       "        }\n",
       "        </script>\n",
       "        "
      ]
     },
     "metadata": {},
     "output_type": "display_data"
    },
    {
     "data": {
      "text/html": [
       "<div>                            <div id=\"8a859234-095a-4c4b-a334-c0ddb903d8d5\" class=\"plotly-graph-div\" style=\"height:525px; width:100%;\"></div>            <script type=\"text/javascript\">                require([\"plotly\"], function(Plotly) {                    window.PLOTLYENV=window.PLOTLYENV || {};                                    if (document.getElementById(\"8a859234-095a-4c4b-a334-c0ddb903d8d5\")) {                    Plotly.newPlot(                        \"8a859234-095a-4c4b-a334-c0ddb903d8d5\",                        [{\"mode\": \"markers\", \"name\": \"Objective Value\", \"type\": \"scatter\", \"x\": [0, 1, 2, 3, 4, 5, 6, 7, 8, 9, 10, 11, 12, 13, 14, 15, 16, 17, 18, 19, 20, 21, 22, 23, 24], \"y\": [0.5231281339242947, 0.5290337054126321, 0.5295066361889055, 0.5278240940040866, 0.5269297697797234, 0.5293611190269752, 0.5246772853773441, 0.5251077736480546, 0.5277149561326389, 0.5263628591697034, 0.5295763631623305, 0.5290397686277125, 0.530334265047384, 0.5286426280399444, 0.530361549515246, 0.5323684737068678, 0.5280302433168211, 0.5295399838718479, 0.5301735898477526, 0.526584166520139, 0.5287153866209096, 0.5308496383292205, 0.5298825555238921, 0.5290549266654136, 0.5330809014788181]}, {\"name\": \"Best Value\", \"type\": \"scatter\", \"x\": [0, 1, 2, 3, 4, 5, 6, 7, 8, 9, 10, 11, 12, 13, 14, 15, 16, 17, 18, 19, 20, 21, 22, 23, 24], \"y\": [0.5231281339242947, 0.5290337054126321, 0.5295066361889055, 0.5295066361889055, 0.5295066361889055, 0.5295066361889055, 0.5295066361889055, 0.5295066361889055, 0.5295066361889055, 0.5295066361889055, 0.5295763631623305, 0.5295763631623305, 0.530334265047384, 0.530334265047384, 0.530361549515246, 0.5323684737068678, 0.5323684737068678, 0.5323684737068678, 0.5323684737068678, 0.5323684737068678, 0.5323684737068678, 0.5323684737068678, 0.5323684737068678, 0.5323684737068678, 0.5330809014788181]}],                        {\"template\": {\"data\": {\"bar\": [{\"error_x\": {\"color\": \"#2a3f5f\"}, \"error_y\": {\"color\": \"#2a3f5f\"}, \"marker\": {\"line\": {\"color\": \"#E5ECF6\", \"width\": 0.5}}, \"type\": \"bar\"}], \"barpolar\": [{\"marker\": {\"line\": {\"color\": \"#E5ECF6\", \"width\": 0.5}}, \"type\": \"barpolar\"}], \"carpet\": [{\"aaxis\": {\"endlinecolor\": \"#2a3f5f\", \"gridcolor\": \"white\", \"linecolor\": \"white\", \"minorgridcolor\": \"white\", \"startlinecolor\": \"#2a3f5f\"}, \"baxis\": {\"endlinecolor\": \"#2a3f5f\", \"gridcolor\": \"white\", \"linecolor\": \"white\", \"minorgridcolor\": \"white\", \"startlinecolor\": \"#2a3f5f\"}, \"type\": \"carpet\"}], \"choropleth\": [{\"colorbar\": {\"outlinewidth\": 0, \"ticks\": \"\"}, \"type\": \"choropleth\"}], \"contour\": [{\"colorbar\": {\"outlinewidth\": 0, \"ticks\": \"\"}, \"colorscale\": [[0.0, \"#0d0887\"], [0.1111111111111111, \"#46039f\"], [0.2222222222222222, \"#7201a8\"], [0.3333333333333333, \"#9c179e\"], [0.4444444444444444, \"#bd3786\"], [0.5555555555555556, \"#d8576b\"], [0.6666666666666666, \"#ed7953\"], [0.7777777777777778, \"#fb9f3a\"], [0.8888888888888888, \"#fdca26\"], [1.0, \"#f0f921\"]], \"type\": \"contour\"}], \"contourcarpet\": [{\"colorbar\": {\"outlinewidth\": 0, \"ticks\": \"\"}, \"type\": \"contourcarpet\"}], \"heatmap\": [{\"colorbar\": {\"outlinewidth\": 0, \"ticks\": \"\"}, \"colorscale\": [[0.0, \"#0d0887\"], [0.1111111111111111, \"#46039f\"], [0.2222222222222222, \"#7201a8\"], [0.3333333333333333, \"#9c179e\"], [0.4444444444444444, \"#bd3786\"], [0.5555555555555556, \"#d8576b\"], [0.6666666666666666, \"#ed7953\"], [0.7777777777777778, \"#fb9f3a\"], [0.8888888888888888, \"#fdca26\"], [1.0, \"#f0f921\"]], \"type\": \"heatmap\"}], \"heatmapgl\": [{\"colorbar\": {\"outlinewidth\": 0, \"ticks\": \"\"}, \"colorscale\": [[0.0, \"#0d0887\"], [0.1111111111111111, \"#46039f\"], [0.2222222222222222, \"#7201a8\"], [0.3333333333333333, \"#9c179e\"], [0.4444444444444444, \"#bd3786\"], [0.5555555555555556, \"#d8576b\"], [0.6666666666666666, \"#ed7953\"], [0.7777777777777778, \"#fb9f3a\"], [0.8888888888888888, \"#fdca26\"], [1.0, \"#f0f921\"]], \"type\": \"heatmapgl\"}], \"histogram\": [{\"marker\": {\"colorbar\": {\"outlinewidth\": 0, \"ticks\": \"\"}}, \"type\": \"histogram\"}], \"histogram2d\": [{\"colorbar\": {\"outlinewidth\": 0, \"ticks\": \"\"}, \"colorscale\": [[0.0, \"#0d0887\"], [0.1111111111111111, \"#46039f\"], [0.2222222222222222, \"#7201a8\"], [0.3333333333333333, \"#9c179e\"], [0.4444444444444444, \"#bd3786\"], [0.5555555555555556, \"#d8576b\"], [0.6666666666666666, \"#ed7953\"], [0.7777777777777778, \"#fb9f3a\"], [0.8888888888888888, \"#fdca26\"], [1.0, \"#f0f921\"]], \"type\": \"histogram2d\"}], \"histogram2dcontour\": [{\"colorbar\": {\"outlinewidth\": 0, \"ticks\": \"\"}, \"colorscale\": [[0.0, \"#0d0887\"], [0.1111111111111111, \"#46039f\"], [0.2222222222222222, \"#7201a8\"], [0.3333333333333333, \"#9c179e\"], [0.4444444444444444, \"#bd3786\"], [0.5555555555555556, \"#d8576b\"], [0.6666666666666666, \"#ed7953\"], [0.7777777777777778, \"#fb9f3a\"], [0.8888888888888888, \"#fdca26\"], [1.0, \"#f0f921\"]], \"type\": \"histogram2dcontour\"}], \"mesh3d\": [{\"colorbar\": {\"outlinewidth\": 0, \"ticks\": \"\"}, \"type\": \"mesh3d\"}], \"parcoords\": [{\"line\": {\"colorbar\": {\"outlinewidth\": 0, \"ticks\": \"\"}}, \"type\": \"parcoords\"}], \"pie\": [{\"automargin\": true, \"type\": \"pie\"}], \"scatter\": [{\"marker\": {\"colorbar\": {\"outlinewidth\": 0, \"ticks\": \"\"}}, \"type\": \"scatter\"}], \"scatter3d\": [{\"line\": {\"colorbar\": {\"outlinewidth\": 0, \"ticks\": \"\"}}, \"marker\": {\"colorbar\": {\"outlinewidth\": 0, \"ticks\": \"\"}}, \"type\": \"scatter3d\"}], \"scattercarpet\": [{\"marker\": {\"colorbar\": {\"outlinewidth\": 0, \"ticks\": \"\"}}, \"type\": \"scattercarpet\"}], \"scattergeo\": [{\"marker\": {\"colorbar\": {\"outlinewidth\": 0, \"ticks\": \"\"}}, \"type\": \"scattergeo\"}], \"scattergl\": [{\"marker\": {\"colorbar\": {\"outlinewidth\": 0, \"ticks\": \"\"}}, \"type\": \"scattergl\"}], \"scattermapbox\": [{\"marker\": {\"colorbar\": {\"outlinewidth\": 0, \"ticks\": \"\"}}, \"type\": \"scattermapbox\"}], \"scatterpolar\": [{\"marker\": {\"colorbar\": {\"outlinewidth\": 0, \"ticks\": \"\"}}, \"type\": \"scatterpolar\"}], \"scatterpolargl\": [{\"marker\": {\"colorbar\": {\"outlinewidth\": 0, \"ticks\": \"\"}}, \"type\": \"scatterpolargl\"}], \"scatterternary\": [{\"marker\": {\"colorbar\": {\"outlinewidth\": 0, \"ticks\": \"\"}}, \"type\": \"scatterternary\"}], \"surface\": [{\"colorbar\": {\"outlinewidth\": 0, \"ticks\": \"\"}, \"colorscale\": [[0.0, \"#0d0887\"], [0.1111111111111111, \"#46039f\"], [0.2222222222222222, \"#7201a8\"], [0.3333333333333333, \"#9c179e\"], [0.4444444444444444, \"#bd3786\"], [0.5555555555555556, \"#d8576b\"], [0.6666666666666666, \"#ed7953\"], [0.7777777777777778, \"#fb9f3a\"], [0.8888888888888888, \"#fdca26\"], [1.0, \"#f0f921\"]], \"type\": \"surface\"}], \"table\": [{\"cells\": {\"fill\": {\"color\": \"#EBF0F8\"}, \"line\": {\"color\": \"white\"}}, \"header\": {\"fill\": {\"color\": \"#C8D4E3\"}, \"line\": {\"color\": \"white\"}}, \"type\": \"table\"}]}, \"layout\": {\"annotationdefaults\": {\"arrowcolor\": \"#2a3f5f\", \"arrowhead\": 0, \"arrowwidth\": 1}, \"autotypenumbers\": \"strict\", \"coloraxis\": {\"colorbar\": {\"outlinewidth\": 0, \"ticks\": \"\"}}, \"colorscale\": {\"diverging\": [[0, \"#8e0152\"], [0.1, \"#c51b7d\"], [0.2, \"#de77ae\"], [0.3, \"#f1b6da\"], [0.4, \"#fde0ef\"], [0.5, \"#f7f7f7\"], [0.6, \"#e6f5d0\"], [0.7, \"#b8e186\"], [0.8, \"#7fbc41\"], [0.9, \"#4d9221\"], [1, \"#276419\"]], \"sequential\": [[0.0, \"#0d0887\"], [0.1111111111111111, \"#46039f\"], [0.2222222222222222, \"#7201a8\"], [0.3333333333333333, \"#9c179e\"], [0.4444444444444444, \"#bd3786\"], [0.5555555555555556, \"#d8576b\"], [0.6666666666666666, \"#ed7953\"], [0.7777777777777778, \"#fb9f3a\"], [0.8888888888888888, \"#fdca26\"], [1.0, \"#f0f921\"]], \"sequentialminus\": [[0.0, \"#0d0887\"], [0.1111111111111111, \"#46039f\"], [0.2222222222222222, \"#7201a8\"], [0.3333333333333333, \"#9c179e\"], [0.4444444444444444, \"#bd3786\"], [0.5555555555555556, \"#d8576b\"], [0.6666666666666666, \"#ed7953\"], [0.7777777777777778, \"#fb9f3a\"], [0.8888888888888888, \"#fdca26\"], [1.0, \"#f0f921\"]]}, \"colorway\": [\"#636efa\", \"#EF553B\", \"#00cc96\", \"#ab63fa\", \"#FFA15A\", \"#19d3f3\", \"#FF6692\", \"#B6E880\", \"#FF97FF\", \"#FECB52\"], \"font\": {\"color\": \"#2a3f5f\"}, \"geo\": {\"bgcolor\": \"white\", \"lakecolor\": \"white\", \"landcolor\": \"#E5ECF6\", \"showlakes\": true, \"showland\": true, \"subunitcolor\": \"white\"}, \"hoverlabel\": {\"align\": \"left\"}, \"hovermode\": \"closest\", \"mapbox\": {\"style\": \"light\"}, \"paper_bgcolor\": \"white\", \"plot_bgcolor\": \"#E5ECF6\", \"polar\": {\"angularaxis\": {\"gridcolor\": \"white\", \"linecolor\": \"white\", \"ticks\": \"\"}, \"bgcolor\": \"#E5ECF6\", \"radialaxis\": {\"gridcolor\": \"white\", \"linecolor\": \"white\", \"ticks\": \"\"}}, \"scene\": {\"xaxis\": {\"backgroundcolor\": \"#E5ECF6\", \"gridcolor\": \"white\", \"gridwidth\": 2, \"linecolor\": \"white\", \"showbackground\": true, \"ticks\": \"\", \"zerolinecolor\": \"white\"}, \"yaxis\": {\"backgroundcolor\": \"#E5ECF6\", \"gridcolor\": \"white\", \"gridwidth\": 2, \"linecolor\": \"white\", \"showbackground\": true, \"ticks\": \"\", \"zerolinecolor\": \"white\"}, \"zaxis\": {\"backgroundcolor\": \"#E5ECF6\", \"gridcolor\": \"white\", \"gridwidth\": 2, \"linecolor\": \"white\", \"showbackground\": true, \"ticks\": \"\", \"zerolinecolor\": \"white\"}}, \"shapedefaults\": {\"line\": {\"color\": \"#2a3f5f\"}}, \"ternary\": {\"aaxis\": {\"gridcolor\": \"white\", \"linecolor\": \"white\", \"ticks\": \"\"}, \"baxis\": {\"gridcolor\": \"white\", \"linecolor\": \"white\", \"ticks\": \"\"}, \"bgcolor\": \"#E5ECF6\", \"caxis\": {\"gridcolor\": \"white\", \"linecolor\": \"white\", \"ticks\": \"\"}}, \"title\": {\"x\": 0.05}, \"xaxis\": {\"automargin\": true, \"gridcolor\": \"white\", \"linecolor\": \"white\", \"ticks\": \"\", \"title\": {\"standoff\": 15}, \"zerolinecolor\": \"white\", \"zerolinewidth\": 2}, \"yaxis\": {\"automargin\": true, \"gridcolor\": \"white\", \"linecolor\": \"white\", \"ticks\": \"\", \"title\": {\"standoff\": 15}, \"zerolinecolor\": \"white\", \"zerolinewidth\": 2}}}, \"title\": {\"text\": \"Optimization History Plot\"}, \"xaxis\": {\"title\": {\"text\": \"#Trials\"}}, \"yaxis\": {\"title\": {\"text\": \"Objective Value\"}}},                        {\"responsive\": true}                    ).then(function(){\n",
       "                            \n",
       "var gd = document.getElementById('8a859234-095a-4c4b-a334-c0ddb903d8d5');\n",
       "var x = new MutationObserver(function (mutations, observer) {{\n",
       "        var display = window.getComputedStyle(gd).display;\n",
       "        if (!display || display === 'none') {{\n",
       "            console.log([gd, 'removed!']);\n",
       "            Plotly.purge(gd);\n",
       "            observer.disconnect();\n",
       "        }}\n",
       "}});\n",
       "\n",
       "// Listen for the removal of the full notebook cells\n",
       "var notebookContainer = gd.closest('#notebook-container');\n",
       "if (notebookContainer) {{\n",
       "    x.observe(notebookContainer, {childList: true});\n",
       "}}\n",
       "\n",
       "// Listen for the clearing of the current output cell\n",
       "var outputEl = gd.closest('.output');\n",
       "if (outputEl) {{\n",
       "    x.observe(outputEl, {childList: true});\n",
       "}}\n",
       "\n",
       "                        })                };                });            </script>        </div>"
      ]
     },
     "metadata": {},
     "output_type": "display_data"
    }
   ],
   "source": [
    "# 繪製最佳準確率如何隨train的次數增加\n",
    "fig = optuna.visualization.plot_optimization_history(study)\n",
    "fig.show();"
   ]
  },
  {
   "cell_type": "code",
   "execution_count": 20,
   "metadata": {
    "execution": {
     "iopub.execute_input": "2021-01-09T21:02:30.032777Z",
     "iopub.status.busy": "2021-01-09T21:02:30.032116Z",
     "iopub.status.idle": "2021-01-09T21:02:30.791683Z",
     "shell.execute_reply": "2021-01-09T21:02:30.792826Z"
    },
    "papermill": {
     "duration": 0.809192,
     "end_time": "2021-01-09T21:02:30.793015",
     "exception": false,
     "start_time": "2021-01-09T21:02:29.983823",
     "status": "completed"
    },
    "tags": []
   },
   "outputs": [
    {
     "data": {
      "text/html": [
       "<div>                            <div id=\"c48afa21-3482-4d80-b57e-6dd66b463620\" class=\"plotly-graph-div\" style=\"height:525px; width:100%;\"></div>            <script type=\"text/javascript\">                require([\"plotly\"], function(Plotly) {                    window.PLOTLYENV=window.PLOTLYENV || {};                                    if (document.getElementById(\"c48afa21-3482-4d80-b57e-6dd66b463620\")) {                    Plotly.newPlot(                        \"c48afa21-3482-4d80-b57e-6dd66b463620\",                        [{\"cliponaxis\": false, \"hovertemplate\": [\"max_depth (IntUniformDistribution): 0.03190293758568939<extra></extra>\", \"n_estimators (IntUniformDistribution): 0.04636038905537314<extra></extra>\", \"learning_rate (UniformDistribution): 0.05884228480255486<extra></extra>\", \"gamma (IntUniformDistribution): 0.09616649962493655<extra></extra>\", \"subsample (UniformDistribution): 0.21799432168180302<extra></extra>\", \"colsample_bytree (UniformDistribution): 0.548733567249643<extra></extra>\"], \"marker\": {\"color\": [\"rgb(8,81,156)\", \"rgb(8,81,156)\", \"rgb(8,48,107)\", \"rgb(8,81,156)\", \"rgb(8,48,107)\", \"rgb(8,48,107)\"]}, \"orientation\": \"h\", \"text\": [\"0.03190293758568939\", \"0.04636038905537314\", \"0.05884228480255486\", \"0.09616649962493655\", \"0.21799432168180302\", \"0.548733567249643\"], \"textposition\": \"outside\", \"texttemplate\": \"%{text:.2f}\", \"type\": \"bar\", \"x\": [0.03190293758568939, 0.04636038905537314, 0.05884228480255486, 0.09616649962493655, 0.21799432168180302, 0.548733567249643], \"y\": [\"max_depth\", \"n_estimators\", \"learning_rate\", \"gamma\", \"subsample\", \"colsample_bytree\"]}],                        {\"showlegend\": false, \"template\": {\"data\": {\"bar\": [{\"error_x\": {\"color\": \"#2a3f5f\"}, \"error_y\": {\"color\": \"#2a3f5f\"}, \"marker\": {\"line\": {\"color\": \"#E5ECF6\", \"width\": 0.5}}, \"type\": \"bar\"}], \"barpolar\": [{\"marker\": {\"line\": {\"color\": \"#E5ECF6\", \"width\": 0.5}}, \"type\": \"barpolar\"}], \"carpet\": [{\"aaxis\": {\"endlinecolor\": \"#2a3f5f\", \"gridcolor\": \"white\", \"linecolor\": \"white\", \"minorgridcolor\": \"white\", \"startlinecolor\": \"#2a3f5f\"}, \"baxis\": {\"endlinecolor\": \"#2a3f5f\", \"gridcolor\": \"white\", \"linecolor\": \"white\", \"minorgridcolor\": \"white\", \"startlinecolor\": \"#2a3f5f\"}, \"type\": \"carpet\"}], \"choropleth\": [{\"colorbar\": {\"outlinewidth\": 0, \"ticks\": \"\"}, \"type\": \"choropleth\"}], \"contour\": [{\"colorbar\": {\"outlinewidth\": 0, \"ticks\": \"\"}, \"colorscale\": [[0.0, \"#0d0887\"], [0.1111111111111111, \"#46039f\"], [0.2222222222222222, \"#7201a8\"], [0.3333333333333333, \"#9c179e\"], [0.4444444444444444, \"#bd3786\"], [0.5555555555555556, \"#d8576b\"], [0.6666666666666666, \"#ed7953\"], [0.7777777777777778, \"#fb9f3a\"], [0.8888888888888888, \"#fdca26\"], [1.0, \"#f0f921\"]], \"type\": \"contour\"}], \"contourcarpet\": [{\"colorbar\": {\"outlinewidth\": 0, \"ticks\": \"\"}, \"type\": \"contourcarpet\"}], \"heatmap\": [{\"colorbar\": {\"outlinewidth\": 0, \"ticks\": \"\"}, \"colorscale\": [[0.0, \"#0d0887\"], [0.1111111111111111, \"#46039f\"], [0.2222222222222222, \"#7201a8\"], [0.3333333333333333, \"#9c179e\"], [0.4444444444444444, \"#bd3786\"], [0.5555555555555556, \"#d8576b\"], [0.6666666666666666, \"#ed7953\"], [0.7777777777777778, \"#fb9f3a\"], [0.8888888888888888, \"#fdca26\"], [1.0, \"#f0f921\"]], \"type\": \"heatmap\"}], \"heatmapgl\": [{\"colorbar\": {\"outlinewidth\": 0, \"ticks\": \"\"}, \"colorscale\": [[0.0, \"#0d0887\"], [0.1111111111111111, \"#46039f\"], [0.2222222222222222, \"#7201a8\"], [0.3333333333333333, \"#9c179e\"], [0.4444444444444444, \"#bd3786\"], [0.5555555555555556, \"#d8576b\"], [0.6666666666666666, \"#ed7953\"], [0.7777777777777778, \"#fb9f3a\"], [0.8888888888888888, \"#fdca26\"], [1.0, \"#f0f921\"]], \"type\": \"heatmapgl\"}], \"histogram\": [{\"marker\": {\"colorbar\": {\"outlinewidth\": 0, \"ticks\": \"\"}}, \"type\": \"histogram\"}], \"histogram2d\": [{\"colorbar\": {\"outlinewidth\": 0, \"ticks\": \"\"}, \"colorscale\": [[0.0, \"#0d0887\"], [0.1111111111111111, \"#46039f\"], [0.2222222222222222, \"#7201a8\"], [0.3333333333333333, \"#9c179e\"], [0.4444444444444444, \"#bd3786\"], [0.5555555555555556, \"#d8576b\"], [0.6666666666666666, \"#ed7953\"], [0.7777777777777778, \"#fb9f3a\"], [0.8888888888888888, \"#fdca26\"], [1.0, \"#f0f921\"]], \"type\": \"histogram2d\"}], \"histogram2dcontour\": [{\"colorbar\": {\"outlinewidth\": 0, \"ticks\": \"\"}, \"colorscale\": [[0.0, \"#0d0887\"], [0.1111111111111111, \"#46039f\"], [0.2222222222222222, \"#7201a8\"], [0.3333333333333333, \"#9c179e\"], [0.4444444444444444, \"#bd3786\"], [0.5555555555555556, \"#d8576b\"], [0.6666666666666666, \"#ed7953\"], [0.7777777777777778, \"#fb9f3a\"], [0.8888888888888888, \"#fdca26\"], [1.0, \"#f0f921\"]], \"type\": \"histogram2dcontour\"}], \"mesh3d\": [{\"colorbar\": {\"outlinewidth\": 0, \"ticks\": \"\"}, \"type\": \"mesh3d\"}], \"parcoords\": [{\"line\": {\"colorbar\": {\"outlinewidth\": 0, \"ticks\": \"\"}}, \"type\": \"parcoords\"}], \"pie\": [{\"automargin\": true, \"type\": \"pie\"}], \"scatter\": [{\"marker\": {\"colorbar\": {\"outlinewidth\": 0, \"ticks\": \"\"}}, \"type\": \"scatter\"}], \"scatter3d\": [{\"line\": {\"colorbar\": {\"outlinewidth\": 0, \"ticks\": \"\"}}, \"marker\": {\"colorbar\": {\"outlinewidth\": 0, \"ticks\": \"\"}}, \"type\": \"scatter3d\"}], \"scattercarpet\": [{\"marker\": {\"colorbar\": {\"outlinewidth\": 0, \"ticks\": \"\"}}, \"type\": \"scattercarpet\"}], \"scattergeo\": [{\"marker\": {\"colorbar\": {\"outlinewidth\": 0, \"ticks\": \"\"}}, \"type\": \"scattergeo\"}], \"scattergl\": [{\"marker\": {\"colorbar\": {\"outlinewidth\": 0, \"ticks\": \"\"}}, \"type\": \"scattergl\"}], \"scattermapbox\": [{\"marker\": {\"colorbar\": {\"outlinewidth\": 0, \"ticks\": \"\"}}, \"type\": \"scattermapbox\"}], \"scatterpolar\": [{\"marker\": {\"colorbar\": {\"outlinewidth\": 0, \"ticks\": \"\"}}, \"type\": \"scatterpolar\"}], \"scatterpolargl\": [{\"marker\": {\"colorbar\": {\"outlinewidth\": 0, \"ticks\": \"\"}}, \"type\": \"scatterpolargl\"}], \"scatterternary\": [{\"marker\": {\"colorbar\": {\"outlinewidth\": 0, \"ticks\": \"\"}}, \"type\": \"scatterternary\"}], \"surface\": [{\"colorbar\": {\"outlinewidth\": 0, \"ticks\": \"\"}, \"colorscale\": [[0.0, \"#0d0887\"], [0.1111111111111111, \"#46039f\"], [0.2222222222222222, \"#7201a8\"], [0.3333333333333333, \"#9c179e\"], [0.4444444444444444, \"#bd3786\"], [0.5555555555555556, \"#d8576b\"], [0.6666666666666666, \"#ed7953\"], [0.7777777777777778, \"#fb9f3a\"], [0.8888888888888888, \"#fdca26\"], [1.0, \"#f0f921\"]], \"type\": \"surface\"}], \"table\": [{\"cells\": {\"fill\": {\"color\": \"#EBF0F8\"}, \"line\": {\"color\": \"white\"}}, \"header\": {\"fill\": {\"color\": \"#C8D4E3\"}, \"line\": {\"color\": \"white\"}}, \"type\": \"table\"}]}, \"layout\": {\"annotationdefaults\": {\"arrowcolor\": \"#2a3f5f\", \"arrowhead\": 0, \"arrowwidth\": 1}, \"autotypenumbers\": \"strict\", \"coloraxis\": {\"colorbar\": {\"outlinewidth\": 0, \"ticks\": \"\"}}, \"colorscale\": {\"diverging\": [[0, \"#8e0152\"], [0.1, \"#c51b7d\"], [0.2, \"#de77ae\"], [0.3, \"#f1b6da\"], [0.4, \"#fde0ef\"], [0.5, \"#f7f7f7\"], [0.6, \"#e6f5d0\"], [0.7, \"#b8e186\"], [0.8, \"#7fbc41\"], [0.9, \"#4d9221\"], [1, \"#276419\"]], \"sequential\": [[0.0, \"#0d0887\"], [0.1111111111111111, \"#46039f\"], [0.2222222222222222, \"#7201a8\"], [0.3333333333333333, \"#9c179e\"], [0.4444444444444444, \"#bd3786\"], [0.5555555555555556, \"#d8576b\"], [0.6666666666666666, \"#ed7953\"], [0.7777777777777778, \"#fb9f3a\"], [0.8888888888888888, \"#fdca26\"], [1.0, \"#f0f921\"]], \"sequentialminus\": [[0.0, \"#0d0887\"], [0.1111111111111111, \"#46039f\"], [0.2222222222222222, \"#7201a8\"], [0.3333333333333333, \"#9c179e\"], [0.4444444444444444, \"#bd3786\"], [0.5555555555555556, \"#d8576b\"], [0.6666666666666666, \"#ed7953\"], [0.7777777777777778, \"#fb9f3a\"], [0.8888888888888888, \"#fdca26\"], [1.0, \"#f0f921\"]]}, \"colorway\": [\"#636efa\", \"#EF553B\", \"#00cc96\", \"#ab63fa\", \"#FFA15A\", \"#19d3f3\", \"#FF6692\", \"#B6E880\", \"#FF97FF\", \"#FECB52\"], \"font\": {\"color\": \"#2a3f5f\"}, \"geo\": {\"bgcolor\": \"white\", \"lakecolor\": \"white\", \"landcolor\": \"#E5ECF6\", \"showlakes\": true, \"showland\": true, \"subunitcolor\": \"white\"}, \"hoverlabel\": {\"align\": \"left\"}, \"hovermode\": \"closest\", \"mapbox\": {\"style\": \"light\"}, \"paper_bgcolor\": \"white\", \"plot_bgcolor\": \"#E5ECF6\", \"polar\": {\"angularaxis\": {\"gridcolor\": \"white\", \"linecolor\": \"white\", \"ticks\": \"\"}, \"bgcolor\": \"#E5ECF6\", \"radialaxis\": {\"gridcolor\": \"white\", \"linecolor\": \"white\", \"ticks\": \"\"}}, \"scene\": {\"xaxis\": {\"backgroundcolor\": \"#E5ECF6\", \"gridcolor\": \"white\", \"gridwidth\": 2, \"linecolor\": \"white\", \"showbackground\": true, \"ticks\": \"\", \"zerolinecolor\": \"white\"}, \"yaxis\": {\"backgroundcolor\": \"#E5ECF6\", \"gridcolor\": \"white\", \"gridwidth\": 2, \"linecolor\": \"white\", \"showbackground\": true, \"ticks\": \"\", \"zerolinecolor\": \"white\"}, \"zaxis\": {\"backgroundcolor\": \"#E5ECF6\", \"gridcolor\": \"white\", \"gridwidth\": 2, \"linecolor\": \"white\", \"showbackground\": true, \"ticks\": \"\", \"zerolinecolor\": \"white\"}}, \"shapedefaults\": {\"line\": {\"color\": \"#2a3f5f\"}}, \"ternary\": {\"aaxis\": {\"gridcolor\": \"white\", \"linecolor\": \"white\", \"ticks\": \"\"}, \"baxis\": {\"gridcolor\": \"white\", \"linecolor\": \"white\", \"ticks\": \"\"}, \"bgcolor\": \"#E5ECF6\", \"caxis\": {\"gridcolor\": \"white\", \"linecolor\": \"white\", \"ticks\": \"\"}}, \"title\": {\"x\": 0.05}, \"xaxis\": {\"automargin\": true, \"gridcolor\": \"white\", \"linecolor\": \"white\", \"ticks\": \"\", \"title\": {\"standoff\": 15}, \"zerolinecolor\": \"white\", \"zerolinewidth\": 2}, \"yaxis\": {\"automargin\": true, \"gridcolor\": \"white\", \"linecolor\": \"white\", \"ticks\": \"\", \"title\": {\"standoff\": 15}, \"zerolinecolor\": \"white\", \"zerolinewidth\": 2}}}, \"title\": {\"text\": \"Hyperparameter Importances\"}, \"xaxis\": {\"title\": {\"text\": \"Importance\"}}, \"yaxis\": {\"title\": {\"text\": \"Hyperparameter\"}}},                        {\"responsive\": true}                    ).then(function(){\n",
       "                            \n",
       "var gd = document.getElementById('c48afa21-3482-4d80-b57e-6dd66b463620');\n",
       "var x = new MutationObserver(function (mutations, observer) {{\n",
       "        var display = window.getComputedStyle(gd).display;\n",
       "        if (!display || display === 'none') {{\n",
       "            console.log([gd, 'removed!']);\n",
       "            Plotly.purge(gd);\n",
       "            observer.disconnect();\n",
       "        }}\n",
       "}});\n",
       "\n",
       "// Listen for the removal of the full notebook cells\n",
       "var notebookContainer = gd.closest('#notebook-container');\n",
       "if (notebookContainer) {{\n",
       "    x.observe(notebookContainer, {childList: true});\n",
       "}}\n",
       "\n",
       "// Listen for the clearing of the current output cell\n",
       "var outputEl = gd.closest('.output');\n",
       "if (outputEl) {{\n",
       "    x.observe(outputEl, {childList: true});\n",
       "}}\n",
       "\n",
       "                        })                };                });            </script>        </div>"
      ]
     },
     "metadata": {},
     "output_type": "display_data"
    }
   ],
   "source": [
    "# 繪製參數改變的相對重要性\n",
    "fig = optuna.visualization.plot_param_importances(study)\n",
    "fig.show();"
   ]
  },
  {
   "cell_type": "code",
   "execution_count": 21,
   "metadata": {
    "execution": {
     "iopub.execute_input": "2021-01-09T21:02:30.954361Z",
     "iopub.status.busy": "2021-01-09T21:02:30.953313Z",
     "iopub.status.idle": "2021-01-09T21:02:30.955982Z",
     "shell.execute_reply": "2021-01-09T21:02:30.955222Z"
    },
    "papermill": {
     "duration": 0.099188,
     "end_time": "2021-01-09T21:02:30.956132",
     "exception": false,
     "start_time": "2021-01-09T21:02:30.856944",
     "status": "completed"
    },
    "tags": []
   },
   "outputs": [],
   "source": [
    "# 利用中位數估算缺失值\n",
    "def fillna_npwhere(array, values):\n",
    "    if np.isnan(array.sum()):\n",
    "        array = np.where(np.isnan(array), values, array)\n",
    "    return array"
   ]
  },
  {
   "cell_type": "code",
   "execution_count": 22,
   "metadata": {
    "execution": {
     "iopub.execute_input": "2021-01-09T21:02:31.098534Z",
     "iopub.status.busy": "2021-01-09T21:02:31.097453Z",
     "iopub.status.idle": "2021-01-09T21:02:31.127053Z",
     "shell.execute_reply": "2021-01-09T21:02:31.127702Z"
    },
    "papermill": {
     "duration": 0.110474,
     "end_time": "2021-01-09T21:02:31.127904",
     "exception": false,
     "start_time": "2021-01-09T21:02:31.017430",
     "status": "completed"
    },
    "tags": []
   },
   "outputs": [],
   "source": [
    "import janestreet\n",
    "env = janestreet.make_env() # initialize the environment\n",
    "iter_test = env.iter_test() # an iterator which loops over the test set"
   ]
  },
  {
   "cell_type": "code",
   "execution_count": 23,
   "metadata": {
    "execution": {
     "iopub.execute_input": "2021-01-09T21:02:31.271362Z",
     "iopub.status.busy": "2021-01-09T21:02:31.270292Z",
     "iopub.status.idle": "2021-01-09T21:05:50.759221Z",
     "shell.execute_reply": "2021-01-09T21:05:50.758104Z"
    },
    "papermill": {
     "duration": 199.567182,
     "end_time": "2021-01-09T21:05:50.759352",
     "exception": false,
     "start_time": "2021-01-09T21:02:31.192170",
     "status": "completed"
    },
    "tags": []
   },
   "outputs": [],
   "source": [
    "for (test_df, sample_prediction_df) in iter_test:\n",
    "    wt = test_df.iloc[0].weight\n",
    "    if(wt == 0):\n",
    "        sample_prediction_df.action = 0 \n",
    "    else:\n",
    "        sample_prediction_df.action = optimal_clf.predict(pca.transform(scaler.transform(fillna_npwhere(test_df[features].values,train_median[features].values))))\n",
    "    env.predict(sample_prediction_df)"
   ]
  },
  {
   "cell_type": "code",
   "execution_count": null,
   "metadata": {
    "papermill": {
     "duration": 0.046109,
     "end_time": "2021-01-09T21:05:50.852315",
     "exception": false,
     "start_time": "2021-01-09T21:05:50.806206",
     "status": "completed"
    },
    "tags": []
   },
   "outputs": [],
   "source": []
  }
 ],
 "metadata": {
  "kernelspec": {
   "display_name": "Python 3",
   "language": "python",
   "name": "python3"
  },
  "language_info": {
   "codemirror_mode": {
    "name": "ipython",
    "version": 3
   },
   "file_extension": ".py",
   "mimetype": "text/x-python",
   "name": "python",
   "nbconvert_exporter": "python",
   "pygments_lexer": "ipython3",
   "version": "3.7.6"
  },
  "papermill": {
   "duration": 850.804425,
   "end_time": "2021-01-09T21:05:51.521655",
   "environment_variables": {},
   "exception": null,
   "input_path": "__notebook__.ipynb",
   "output_path": "__notebook__.ipynb",
   "parameters": {},
   "start_time": "2021-01-09T20:51:40.717230",
   "version": "2.1.0"
  }
 },
 "nbformat": 4,
 "nbformat_minor": 4
}
